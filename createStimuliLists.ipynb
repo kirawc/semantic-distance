{
  "nbformat": 4,
  "nbformat_minor": 0,
  "metadata": {
    "colab": {
      "name": "createStimuliLists.ipynb",
      "provenance": [],
      "include_colab_link": true
    },
    "kernelspec": {
      "name": "python3",
      "display_name": "Python 3"
    }
  },
  "cells": [
    {
      "cell_type": "markdown",
      "metadata": {
        "id": "view-in-github",
        "colab_type": "text"
      },
      "source": [
        "<a href=\"https://colab.research.google.com/github/kirawc/semantic-distance/blob/main/createStimuliLists.ipynb\" target=\"_parent\"><img src=\"https://colab.research.google.com/assets/colab-badge.svg\" alt=\"Open In Colab\"/></a>"
      ]
    },
    {
      "cell_type": "markdown",
      "metadata": {
        "id": "KiYK6c-rEP6N"
      },
      "source": [
        "# set up; import; define"
      ]
    },
    {
      "cell_type": "code",
      "metadata": {
        "id": "Eugg_r638v1h"
      },
      "source": [
        "# Import everything\n",
        "import os, json\n",
        "import pandas as pd\n",
        "import random\n",
        "import copy\n",
        "import sqlite3\n",
        "import sys\n",
        "import numpy as np\n",
        "import csv  \n"
      ],
      "execution_count": null,
      "outputs": []
    },
    {
      "cell_type": "code",
      "metadata": {
        "id": "kfB5LmMt9L__"
      },
      "source": [
        "# Define things\n",
        "stimDict = {\"animal\":[\"a1\", \"a2\", \"a3\",\"a4\",\"a5\",\"a6\",\"a7\",\"a8\",\"a9\",\"a10\"],\n",
        "            \"instruments\":[\"i1\", \"i2\", \"i3\",\"i4\",\"i5\",\"i6\",\"i7\",\"i8\",\"i9\",\"i10\"],\n",
        "            \"household\":[\"h1\", \"h2\", \"h3\",\"h4\",\"h5\",\"h6\",\"h7\",\"h8\",\"h9\",\"h10\"]};\n",
        "\n",
        "nRates = 20; # total number of ratings you want for each trio \n",
        "subsPerSet = 6; # how many subs does it take to get a full rating set"
      ],
      "execution_count": null,
      "outputs": []
    },
    {
      "cell_type": "markdown",
      "metadata": {
        "id": "0bQaNEKeEYz3"
      },
      "source": [
        "# Put it all together"
      ]
    },
    {
      "cell_type": "code",
      "metadata": {
        "id": "GrJaSRWrKQOW"
      },
      "source": [
        "# Run functions\n",
        "trioDict = makeTrios(stimDict) # takes original dictionary and creates dictionary of all the possible (within category) trios\n",
        "print(len(trioDict))\n",
        "sub = 0;\n",
        "\n",
        "# Randomize \n",
        "for i in range(nRates): # how many SETS of ratings you want\n",
        "\n",
        "  cSet = makeSplits(trioDict, subsPerSet);\n",
        "\n",
        "  for j in range(subsPerSet): # how many SPLITS (subs) you want per SET of ratings\n",
        "    cSplit = cSet[j];\n",
        "    df = pd.DataFrame(columns=['sub','set','split','modality','prompt','opt1','opt2'])\n",
        "    sub += 1;\n",
        "\n",
        "    for k in range(len(cSplit)):\n",
        "      cLine = cSplit[k];\n",
        "      df.loc[k] = [sub, i, j, cLine[0], cLine[1], cLine[2][0], cLine[2][1]];\n",
        "\n",
        "    #with open('/content/drive/MyDrive/*research/semantic distance/randomizations/SEMDIST_sub'+str(sub)+'_set'+str(i)+'_split'+str(j)+'_9Feb.csv', 'w') as f:\n",
        "      #df.to_csv(f)\n",
        "    print(\"Sub:\", sub, \" Length:\", len(df))\n",
        "\n",
        "#######\n",
        "#data = {'sub':[1,2,3], 'set':[1,1,1], 'split':[1,1,1], 'modality':['v','a','v'], 'prompt': ['a1','a1','a1'], 'opt1':['a1','a2','a3'], 'opt2':['a3','a3','a3']}\n",
        "#df = pd.DataFrame(data)\n",
        "#print(df)"
      ],
      "execution_count": null,
      "outputs": []
    },
    {
      "cell_type": "code",
      "metadata": {
        "id": "Cy0J58KaVeM8"
      },
      "source": [
        "#cSet = makeSplits(trioDict, subsPerSet);\n",
        "print(type(cSet))"
      ],
      "execution_count": null,
      "outputs": []
    },
    {
      "cell_type": "code",
      "metadata": {
        "id": "CEdbf29V2tlZ"
      },
      "source": [
        "total = 2200;\n",
        "nSplit = 6;\n",
        "trialsPer = 2200/nSplit;\n",
        "print(trialsPer)\n",
        "secPerTrial = 3;\n",
        "totalTime = (trialsPer * secPerTrial)/60;\n",
        "print(totalTime)"
      ],
      "execution_count": null,
      "outputs": []
    },
    {
      "cell_type": "markdown",
      "metadata": {
        "id": "yipDPADpEMSz"
      },
      "source": [
        "# create combinations\n"
      ]
    },
    {
      "cell_type": "code",
      "metadata": {
        "id": "3-tO7q6p9TMz"
      },
      "source": [
        "def makeTrios(dict):\n",
        "\n",
        "  \"\"\"\n",
        "  Expands original dict \n",
        "  Each stim is now a dict with lists of each possible pair of options, excluding repeats\n",
        "\n",
        "  structure -- \n",
        "  {CATEGORY1: {STIM1:[pair1A, pair1B], STIM2:[pair2A,pair2B]}, CATEGORY2: .... }\n",
        "  \"\"\"\n",
        "  \n",
        "  resdict = {} # the final \n",
        "  categories = list(dict.keys())\n",
        "\n",
        "  for cat in categories:  # Loop through each category\n",
        "\n",
        "    stimlist = list(dict[cat]) # get category\n",
        "    promptDict = {}\n",
        "    \n",
        "    for prompt in stimlist: # Loop through all prompts\n",
        "\n",
        "      everyPairForThisPrompt = []; # reset list of pairs for this prompt  \n",
        "      optionList1 = [x for x in stimlist if x != prompt]\n",
        "\n",
        "      # add in matched pair as a check\n",
        "      controlpair = (prompt, random.choice(optionList1))\n",
        "      everyPairForThisPrompt.append(controlpair)\n",
        "\n",
        "      for i in range(len(optionList1)): # Loop through all but current prompt\n",
        "\n",
        "          opt1 = optionList1[i];\n",
        "          optionList2 = [x for x in optionList1 if x != opt1]\n",
        "\n",
        "          for j in range(len(optionList2)): # Loop through all but prompt & opt1\n",
        "\n",
        "            opt2 = optionList2[j];\n",
        "            cpair = (opt1, opt2)\n",
        "            everyPairForThisPrompt.append(cpair)\n",
        "      \n",
        "      pairs = removeDuplicates(everyPairForThisPrompt);\n",
        "      promptDict[prompt] = pairs; \n",
        "    \n",
        "      resdict[cat] = promptDict; \n",
        "\n",
        "  return resdict"
      ],
      "execution_count": null,
      "outputs": []
    },
    {
      "cell_type": "code",
      "metadata": {
        "id": "cFYO_B3BWF2Z"
      },
      "source": [
        "def removeDuplicates(lst): \n",
        "      \n",
        "  res = list(set(tuple(sorted(sub)) for sub in lst)) \n",
        "\n",
        "  return res"
      ],
      "execution_count": null,
      "outputs": []
    },
    {
      "cell_type": "markdown",
      "metadata": {
        "id": "tV2K_XG_Etsv"
      },
      "source": [
        "# create randomized splits"
      ]
    },
    {
      "cell_type": "code",
      "metadata": {
        "id": "owGm-B58HoAW"
      },
      "source": [
        "def makeSplits(dict, nSplit):\n",
        "\n",
        "  \"\"\"\n",
        "  (Psuedo) Randomize which trials [prompt & option pairs] a participant will see\n",
        "  1 participant = 1 split\n",
        "  ? splits = 1 set\n",
        "\n",
        "  Pseudo random bc even nums of category & prompt \n",
        "  So every participant has the same ex posure to each category & each prompt\n",
        "  \"\"\"\n",
        "\n",
        "  # INPUT STRUCTURE\n",
        "  # {category: {prompt1:[opt1A,op2A],....}, {prompt2: [opt1B, opt2B],....}}\n",
        "  allDict = dict;\n",
        "  allList = list(allDict.keys()) # dictionary with everycategory \n",
        "\n",
        "  # OUTPUT STRUCTURE\n",
        "  # res = [  [ [a, a1,a2,a3], [v, b1,b2,b3] ], [ ]]\n",
        "  # list of splits with trios\n",
        "  res = [[] for i in range(nSplit)]\n",
        "  resSplits = [[] for i in range(nSplit)]\n",
        "  modalities = [\"a\",\"v\"]\n",
        "\n",
        "  for cat in allDict: # loop through outer categories\n",
        "\n",
        "    catDict = allDict[cat]; # dictinary with current category\n",
        "    prompts = list(allDict[cat].keys()) # keys for current dictionary\n",
        "\n",
        "    for modality in modalities:\n",
        "      \n",
        "      for prompt in prompts:\n",
        "\n",
        "        optpairs = list(catDict[prompt]) # options for this prompt for this category \n",
        "        trios = [[modality, prompt] + [lst] for lst in optpairs]\n",
        "        shuffledTrios = random.sample(trios,len(trios)) # shuffle up the options\n",
        "        #splitList = split_list(shuffledTrios,nSplit)\n",
        "        splitList = splitter(shuffledTrios,nSplit)\n",
        "\n",
        "        for n in range(nSplit):\n",
        "          resSplits[n].extend(splitList[n])\n",
        "  \n",
        "  for n in range(nSplit):\n",
        "    res[n] = random.sample(resSplits[n], len(resSplits[n]))\n",
        "\n",
        "  return res"
      ],
      "execution_count": null,
      "outputs": []
    },
    {
      "cell_type": "code",
      "metadata": {
        "colab": {
          "base_uri": "https://localhost:8080/",
          "height": 256
        },
        "id": "F_CyVE_UTcDb",
        "outputId": "f2d55c9f-9696-456c-b74a-4d148128efab"
      },
      "source": [
        "makeSplits(trioDict,6)"
      ],
      "execution_count": null,
      "outputs": [
        {
          "output_type": "error",
          "ename": "NameError",
          "evalue": "ignored",
          "traceback": [
            "\u001b[0;31m---------------------------------------------------------------------------\u001b[0m",
            "\u001b[0;31mNameError\u001b[0m                                 Traceback (most recent call last)",
            "\u001b[0;32m<ipython-input-54-1141c878c965>\u001b[0m in \u001b[0;36m<module>\u001b[0;34m()\u001b[0m\n\u001b[0;32m----> 1\u001b[0;31m \u001b[0mmakeSplits\u001b[0m\u001b[0;34m(\u001b[0m\u001b[0mtrioDict\u001b[0m\u001b[0;34m,\u001b[0m\u001b[0;36m6\u001b[0m\u001b[0;34m)\u001b[0m\u001b[0;34m\u001b[0m\u001b[0;34m\u001b[0m\u001b[0m\n\u001b[0m",
            "\u001b[0;32m<ipython-input-48-4ca47ad2cc45>\u001b[0m in \u001b[0;36mmakeSplits\u001b[0;34m(dict, nSplit)\u001b[0m\n\u001b[1;32m     35\u001b[0m         \u001b[0mshuffledTrios\u001b[0m \u001b[0;34m=\u001b[0m \u001b[0mrandom\u001b[0m\u001b[0;34m.\u001b[0m\u001b[0msample\u001b[0m\u001b[0;34m(\u001b[0m\u001b[0mtrios\u001b[0m\u001b[0;34m,\u001b[0m\u001b[0mlen\u001b[0m\u001b[0;34m(\u001b[0m\u001b[0mtrios\u001b[0m\u001b[0;34m)\u001b[0m\u001b[0;34m)\u001b[0m \u001b[0;31m# shuffle up the options\u001b[0m\u001b[0;34m\u001b[0m\u001b[0;34m\u001b[0m\u001b[0m\n\u001b[1;32m     36\u001b[0m         \u001b[0;31m#splitList = split_list(shuffledTrios,nSplit)\u001b[0m\u001b[0;34m\u001b[0m\u001b[0;34m\u001b[0m\u001b[0;34m\u001b[0m\u001b[0m\n\u001b[0;32m---> 37\u001b[0;31m         \u001b[0msplitList\u001b[0m \u001b[0;34m=\u001b[0m \u001b[0msplitter\u001b[0m\u001b[0;34m(\u001b[0m\u001b[0mshuffledTrios\u001b[0m\u001b[0;34m,\u001b[0m\u001b[0mnSplit\u001b[0m\u001b[0;34m)\u001b[0m\u001b[0;34m\u001b[0m\u001b[0;34m\u001b[0m\u001b[0m\n\u001b[0m\u001b[1;32m     38\u001b[0m \u001b[0;34m\u001b[0m\u001b[0m\n\u001b[1;32m     39\u001b[0m         \u001b[0;32mfor\u001b[0m \u001b[0mn\u001b[0m \u001b[0;32min\u001b[0m \u001b[0mrange\u001b[0m\u001b[0;34m(\u001b[0m\u001b[0mnSplit\u001b[0m\u001b[0;34m)\u001b[0m\u001b[0;34m:\u001b[0m\u001b[0;34m\u001b[0m\u001b[0;34m\u001b[0m\u001b[0m\n",
            "\u001b[0;32m<ipython-input-52-dff71fe7def1>\u001b[0m in \u001b[0;36msplitter\u001b[0;34m(lst, n)\u001b[0m\n\u001b[1;32m      1\u001b[0m \u001b[0;32mdef\u001b[0m \u001b[0msplitter\u001b[0m\u001b[0;34m(\u001b[0m\u001b[0mlst\u001b[0m\u001b[0;34m,\u001b[0m\u001b[0mn\u001b[0m\u001b[0;34m)\u001b[0m\u001b[0;34m:\u001b[0m\u001b[0;34m\u001b[0m\u001b[0;34m\u001b[0m\u001b[0m\n\u001b[0;32m----> 2\u001b[0;31m   \u001b[0;32mreturn\u001b[0m \u001b[0;34m[\u001b[0m\u001b[0mlst\u001b[0m\u001b[0;34m[\u001b[0m\u001b[0mi\u001b[0m\u001b[0;34m:\u001b[0m\u001b[0;34m:\u001b[0m\u001b[0mn\u001b[0m\u001b[0;34m]\u001b[0m \u001b[0;32mfor\u001b[0m \u001b[0mi\u001b[0m \u001b[0;32min\u001b[0m \u001b[0mxrange\u001b[0m\u001b[0;34m(\u001b[0m\u001b[0mn\u001b[0m\u001b[0;34m)\u001b[0m\u001b[0;34m]\u001b[0m\u001b[0;34m\u001b[0m\u001b[0;34m\u001b[0m\u001b[0m\n\u001b[0m",
            "\u001b[0;31mNameError\u001b[0m: name 'xrange' is not defined"
          ]
        }
      ]
    },
    {
      "cell_type": "code",
      "metadata": {
        "id": "u0_BVnORSvm7"
      },
      "source": [
        "def splitter(lst,n):\n",
        "  return [lst[i::n] for i in xrange(n)]  "
      ],
      "execution_count": null,
      "outputs": []
    },
    {
      "cell_type": "code",
      "metadata": {
        "id": "XzhrvgEnLRwd"
      },
      "source": [
        "def split_list(alist, wanted_parts):\n",
        "    length = len(alist)\n",
        "    return [ alist[i*length // wanted_parts: (i+1)*length // wanted_parts] \n",
        "             for i in range(wanted_parts) ]"
      ],
      "execution_count": null,
      "outputs": []
    },
    {
      "cell_type": "markdown",
      "metadata": {
        "id": "bsTUYanxQ9bG"
      },
      "source": [
        "## Junk"
      ]
    },
    {
      "cell_type": "code",
      "metadata": {
        "id": "MvJTKWaCh8lZ"
      },
      "source": [
        "##### JUNK\n",
        "\n",
        "  categoryList = list(dict.keys())\n",
        "\n",
        "  # loop through each category\n",
        "  for cat in categories: \n",
        "    promptDict = dict[cat];\n",
        "    prompts = promptDict.keys();\n",
        "\n",
        "    for prompt in prompts:\n",
        "      \n",
        "      ckey = promptDict[prompt];\n",
        "      optionPairs = promptDict[ckey]; # every \n",
        "      nEach = len(list(optPairs))/nSplit; # \n",
        "      shuffledPairs = random.sample(optionPairs,len(optionPairs)) # shuffle the full list\n",
        "      print(shuffledPairs)\n",
        "      counter = 0;      \n",
        "\n",
        "\n",
        "dict = trioDict;\n",
        "categoryList = list(dict.keys())\n",
        "\n",
        "nSplit = 2;\n",
        "\n",
        "promptDict = trioDict[categoryList[0]]\n",
        "prompts = list(promptDict.keys());\n",
        "optionPairs = list(promptDict[prompts[0]])\n",
        "nPairs = len(optionPairs)\n",
        "\n",
        "#print(optionPairs)\n",
        "\n",
        "shuffledOptPairs = random.sample(optionPairs,nPairs)\n",
        "shuffledOptPairs2 = random.sample(optionPairs,nPairs)\n",
        "finalList = []\n",
        "\n",
        "for i in range(len(shuffledOptPairs)):\n",
        "  pair = shuffledOptPairs[i]\n",
        "  trio = [\"a3\"];\n",
        "  trio.append(pair)\n",
        "  finalList.append(trio)\n",
        "\n",
        "print(finalList)"
      ],
      "execution_count": null,
      "outputs": []
    }
  ]
}